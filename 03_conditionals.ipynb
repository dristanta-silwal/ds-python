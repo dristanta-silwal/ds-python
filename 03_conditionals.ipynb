{
 "cells": [
  {
   "cell_type": "markdown",
   "metadata": {},
   "source": [
    "### Conditionals"
   ]
  },
  {
   "cell_type": "markdown",
   "metadata": {},
   "source": [
    "In Python, conditionals are used to execute code based on certain conditions. The primary conditional statements in Python are `if`, `elif`, and `else`."
   ]
  },
  {
   "cell_type": "markdown",
   "metadata": {},
   "source": [
    "- **if statement**: The `if` statement is used to test a specific condition. If the condition evaluates to `True`, the code block under the `if` statement is executed.\n",
    "\n",
    "    ```python\n",
    "    if condition:\n",
    "            # code block to execute if condition is True\n",
    "    ```"
   ]
  },
  {
   "cell_type": "markdown",
   "metadata": {},
   "source": [
    "- **elif statement**: The `elif` (short for else if) statement is used to check multiple conditions. If the previous conditions were not `True`, the `elif` condition is evaluated.\n",
    "\n",
    "    ```python\n",
    "    if condition1:\n",
    "            # code block to execute if condition1 is True\n",
    "    elif condition2:\n",
    "            # code block to execute if condition2 is True\n",
    "    ```\n"
   ]
  },
  {
   "cell_type": "markdown",
   "metadata": {},
   "source": [
    "- **else statement**: The `else` statement is used to execute a code block if none of the previous conditions were `True`.\n",
    "\n",
    "    ```python\n",
    "    if condition1:\n",
    "            # code block to execute if condition1 is True\n",
    "    elif condition2:\n",
    "            # code block to execute if condition2 is True\n",
    "    else:\n",
    "            # code block to execute if none of the above conditions are True\n",
    "    ```\n"
   ]
  },
  {
   "cell_type": "markdown",
   "metadata": {},
   "source": [
    "- **Nested conditionals**: You can also nest conditional statements within each other to check multiple conditions.\n",
    "\n",
    "    ```python\n",
    "    if condition1:\n",
    "            if condition2:\n",
    "                    # code block to execute if both condition1 and condition2 are True\n",
    "            else:\n",
    "                    # code block to execute if condition1 is True and condition2 is False\n",
    "    else:\n",
    "            # code block to execute if condition1 is False\n",
    "    ```\n"
   ]
  },
  {
   "cell_type": "markdown",
   "metadata": {},
   "source": [
    "- **Ternary conditional operator**: Python also supports a shorthand for `if-else` statements known as the ternary conditional operator.\n",
    "\n",
    "    ```python\n",
    "    value = true_value if condition else false_value\n",
    "    ```"
   ]
  },
  {
   "cell_type": "markdown",
   "metadata": {},
   "source": [
    "### Some detailed examples"
   ]
  },
  {
   "cell_type": "code",
   "execution_count": 9,
   "metadata": {},
   "outputs": [
    {
     "name": "stdout",
     "output_type": "stream",
     "text": [
      "Tax rate is: 0%\n",
      "SP after Tax:  2.0\n"
     ]
    }
   ],
   "source": [
    "# Tax will only be applied if the amount is greater than or equal to 1000\n",
    "SP=input(\"Enter the amount: \")\n",
    "SP=float(SP)\n",
    "if SP >= 1000:\n",
    "    tax = 0.1\n",
    "    print(\"Tax rate is: 10%\")\n",
    "else:\n",
    "    tax = 0.0\n",
    "    print(\"Tax rate is: 0%\")\n",
    "print(\"SP after Tax: \", SP+SP*tax)"
   ]
  }
 ],
 "metadata": {
  "kernelspec": {
   "display_name": "Python 3",
   "language": "python",
   "name": "python3"
  },
  "language_info": {
   "codemirror_mode": {
    "name": "ipython",
    "version": 3
   },
   "file_extension": ".py",
   "mimetype": "text/x-python",
   "name": "python",
   "nbconvert_exporter": "python",
   "pygments_lexer": "ipython3",
   "version": "3.9.6"
  }
 },
 "nbformat": 4,
 "nbformat_minor": 2
}
