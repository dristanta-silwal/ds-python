{
   "cells": [
      {
         "cell_type": "markdown",
         "metadata": {},
         "source": [
            "# Error handling\n",
            "It is important to handle errors in your code. If you don't handle errors, your program will crash and the user will see an error message. This is not good. You should handle errors and show a user-friendly message to the user.\n",
            "\n",
            "There are three types of errors:\n",
            "\n",
            "Syntax errors: These errors occur when you write incorrect syntax in your code. For example, if you forget to close a bracket or misspell a keyword, you will get a syntax error. Python will not run your code if it has syntax errors.\n",
            "for eg:\n",
            "```python\n",
            "print('Hello World!) # SyntaxError: EOL while scanning string literal\n",
            "```\n",
            "\n",
            "Runtime errors: These errors occur when your code is syntactically correct but fails to execute. For example, if you try to divide a number by zero, you will get a runtime error. Python will run your code but will stop execution when it encounters a runtime error.\n",
            "for eg:\n",
            "```python\n",
            "x = 10\n",
            "y = 0\n",
            "print(x/y)    # ZeroDivisionError: division by zero\n",
            "```\n",
            "\n",
            "Logic errors: These errors occur when your code is syntactically correct and executes without any errors, but the output is incorrect. For example, if you write a program to calculate the average of two numbers but forget to divide the sum by 2, you will get a logic error. Python will run your code without any errors, but the output will be wrong.\n",
            "for eg:\n",
            "```python\n",
            "num1 = 10\n",
            "num2 = 20\n",
            "average = num1 + num2  # Incorrect calculation of average\n",
            "print(average)\n",
            "```\n"
         ]
      },
      {
         "cell_type": "code",
         "execution_count": 2,
         "metadata": {},
         "outputs": [
            {
               "name": "stdout",
               "output_type": "stream",
               "text": [
                  "Error: Cannot divide by zero.\n",
                  "Execution completed.\n"
               ]
            }
         ],
         "source": [
            "try:\n",
            "    num1 = int(input(\"Enter a number: \"))\n",
            "    num2 = int(input(\"Enter another number: \"))\n",
            "    result = num1 / num2\n",
            "except ValueError:\n",
            "    print(\"Invalid input. Please enter a valid number.\")\n",
            "except ZeroDivisionError:\n",
            "    print(\"Error: Cannot divide by zero.\")\n",
            "finally:\n",
            "    print(\"Execution completed.\")\n"
         ]
      },
      {
         "cell_type": "markdown",
         "metadata": {},
         "source": [
            "Difference between bug and error\n",
            "A bug is a mistake in your code that causes it to behave incorrectly. An error is an unexpected condition that occurs during the execution of your code. Bugs are caused by mistakes in your code, while errors are caused by unexpected conditions such as invalid input or system failures.\n"
         ]
      },
      {
         "cell_type": "markdown",
         "metadata": {},
         "source": [
            "## Figuring out the Error\n",
            "\n",
            "To figure out the error in your code, you can use the following techniques:\n",
            "\n",
            "1. **Read the Error Message**: Python will display an error message when it encounters an error in your code. The error message will tell you what went wrong and where the error occurred.\n",
            "\n",
            "2. **Check the Line Number**: The error message will also tell you the line number where the error occurred. You can use this information to locate the error in your code.\n",
            "\n",
            "3. **Use Print Statements**: Print the values of variables and expressions to see what is going wrong in your code.\n",
            "\n",
            "4. **Use a Debugger**: Step through your code and see what is happening at each step. A debugger will help you find the error in your code.\n",
            "\n",
            "5. **Use an IDE**: An Integrated Development Environment (IDE) will help you write and debug your code. An IDE will highlight syntax errors and provide suggestions to fix them.\n",
            "\n",
            "6. **Use a Linter**: A linter is a tool that analyzes your code and finds errors. A linter will help you write clean and error-free code.\n",
            "\n",
            "7. **Use Version Control**: Version control systems like Git will help you track changes in your code and revert to a previous version if something goes wrong.\n",
            "\n",
            "8. **Use Code Review**: Ask a colleague to review your code and find errors. Code review is a good practice to catch errors in your code.\n",
            "\n",
            "9. **Use Unit Tests**: Write unit tests to test your code and find errors. Unit tests will help you verify that your code is working correctly.\n",
            "\n",
            "10. **Use Logging**: Log messages in your code. Logging will help you track the flow of your code and find errors.\n",
            "\n",
            "11. **Use Exception Handling**: Handle errors in your code gracefully to prevent your code from crashing.\n",
            "\n",
            "12. **Use Code Analysis Tools**: Analyze your code to find errors. Code analysis tools will help you write clean and error-free code.\n",
            "\n",
            "13. **Use Code Profiling**: Analyze the performance of your code. Code profiling will help you find bottlenecks in your code and optimize it.\n",
            "\n",
            "14. **Use Code Refactoring**: Improve the structure of your code. Code refactoring will help you write clean and error-free code.\n",
            "\n",
            "15. **Use Code Documentation**: Document your code. Code documentation will help you understand your code and find errors.\n"
         ]
      },
      {
         "cell_type": "markdown",
         "metadata": {},
         "source": [
            "### Stack trace\n",
            "\n",
            "A stack trace is a list of function calls that shows the flow of execution in your code. When an error occurs, Python will display a stack trace that shows the function calls that led to the error. You can use the stack trace to debug your code and find the error.\n"
         ]
      },
      {
         "cell_type": "markdown",
         "metadata": {},
         "source": []
      }
   ],
   "metadata": {
      "kernelspec": {
         "display_name": "Python 3",
         "language": "python",
         "name": "python3"
      },
      "language_info": {
         "codemirror_mode": {
            "name": "ipython",
            "version": 3
         },
         "file_extension": ".py",
         "mimetype": "text/x-python",
         "name": "python",
         "nbconvert_exporter": "python",
         "pygments_lexer": "ipython3",
         "version": "3.9.6"
      }
   },
   "nbformat": 4,
   "nbformat_minor": 4
}
